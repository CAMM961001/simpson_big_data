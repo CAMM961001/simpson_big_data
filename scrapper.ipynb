{
 "cells": [
  {
   "attachments": {},
   "cell_type": "markdown",
   "metadata": {},
   "source": [
    "# Los Simpsons con Big Data\n",
    "\n",
    "## ETL\n",
    "\n",
    "Implementación de la primera parte de la arquitectura. En la práctica se puede **prototipar** este ETL en un cuaderno de Jupyter para experimentar rápido y dejar algo funcional. Al finalizar, lo más adecuado es implementarlo en un script utilizando prácticas de **código de producción**.\n",
    "\n",
    "### Extracción\n",
    "\n",
    "Se desea automatizar la extracción de datos y no hacer un típico _copy and paste_, para lo cual se va a implementar un en un webscrapper que haga un crawl sobre las tablas del HTML.\n",
    "\n",
    "En la aplicación se va a utilizar un _webscrapper_ que ya está implementado en Python dentro de funciones de la librería `pandas`."
   ]
  },
  {
   "cell_type": "code",
   "execution_count": 1,
   "metadata": {},
   "outputs": [],
   "source": [
    "import os\n",
    "import yaml\n",
    "\n",
    "import numpy as np\n",
    "import pandas as pd\n",
    "import matplotlib.pyplot as plt\n",
    "\n",
    "import boto3\n",
    "import awswrangler as wr\n",
    "\n",
    "# Open project config file\n",
    "with open(\"config.yml\", \"r\") as file:\n",
    "    config = yaml.safe_load(file); file.close()"
   ]
  },
  {
   "cell_type": "code",
   "execution_count": 2,
   "metadata": {},
   "outputs": [
    {
     "data": {
      "text/plain": [
       "23"
      ]
     },
     "execution_count": 2,
     "metadata": {},
     "output_type": "execute_result"
    }
   ],
   "source": [
    "# Scrapp wikipedia url\n",
    "PATH_EPISODES = config['scrapper']['url']\n",
    "simpsons_raw = pd.read_html(PATH_EPISODES)\n",
    "\n",
    "# Print total scrapped objects\n",
    "len(simpsons_raw)"
   ]
  },
  {
   "attachments": {},
   "cell_type": "markdown",
   "metadata": {},
   "source": [
    "### Transformación\n",
    "\n",
    "Haciendo una inspección rápida de la página de Wikipedia, se puede identificar que existe 20 tablas de información relacionada a los episodios. Sin embargo, es necesario hacer alguna modificaciones a cada una antes de incorporarlas a AWS S3."
   ]
  },
  {
   "cell_type": "code",
   "execution_count": 3,
   "metadata": {},
   "outputs": [
    {
     "name": "stdout",
     "output_type": "stream",
     "text": [
      "Initial Dim: (0, 0)\n",
      "Final Dim: (441, 9)\n"
     ]
    }
   ],
   "source": [
    "# List of seasons and movies index\n",
    "seasons = np.arange(\n",
    "    config['scrapper']['seasons'][0]\n",
    "    ,config['scrapper']['seasons'][1]+1)\n",
    "movie = config['scrapper']['movie']\n",
    "\n",
    "# Season counter\n",
    "k = 1\n",
    "table = pd.DataFrame()\n",
    "print(f'Initial Dim: {table.shape}')\n",
    "\n",
    "# File name counter\n",
    "for idx in seasons:\n",
    "    # Skip movie from ETL\n",
    "    if idx == movie:\n",
    "        continue\n",
    "\n",
    "    # Data transformation\n",
    "    transformed_table = (\n",
    "        # Filter data object\n",
    "        simpsons_raw[idx]\n",
    "        # Rename table columns\n",
    "        .rename(columns=config['scrapper']['names'])\n",
    "        .assign(\n",
    "            # Add season indicator\n",
    "            season = k,\n",
    "            # Convert datestr to datetime\n",
    "            air_date = lambda df_: pd.to_datetime(df_.air_date),\n",
    "            # Replace , with ; from data\n",
    "            title = lambda df_: df_.title.str.replace(',', ';'),\n",
    "            director = lambda df_: df_.title.str.replace(',', ';'),\n",
    "            writer = lambda df_: df_.title.str.replace(',', ';'),\n",
    "            # Remove wikipedia reference box\n",
    "            viewers = lambda df_: df_.viewers.str.extract(r'([0-9]*.[0-9]*)')\n",
    "        ))\n",
    "    \n",
    "    table = pd.concat([table, transformed_table], axis=0)\n",
    "\n",
    "    k += 1\n",
    "\n",
    "print(f'Final Dim: {table.shape}')\n"
   ]
  },
  {
   "cell_type": "code",
   "execution_count": 4,
   "metadata": {},
   "outputs": [],
   "source": [
    "# Save table\n",
    "table.to_csv(os.path.join(config['path']['episodes'], 'episodes.csv'), index=False)"
   ]
  },
  {
   "attachments": {},
   "cell_type": "markdown",
   "metadata": {},
   "source": [
    "### Carga\n",
    "\n",
    "Como último paso del Pipeline, se hace la carga de datos al _data lake_ para que puedan ser consumidos por algún otro usuario o servicio."
   ]
  },
  {
   "cell_type": "code",
   "execution_count": 5,
   "metadata": {},
   "outputs": [
    {
     "name": "stdout",
     "output_type": "stream",
     "text": [
      "Job done!\n"
     ]
    }
   ],
   "source": [
    "# AWS S3 client and bucket\n",
    "s3 = boto3.client('s3')\n",
    "BUCKET = config['etl']['target_bucket']\n",
    "\n",
    "# Files to upload\n",
    "files = [\n",
    "    x for x in os.listdir(config['path']['episodes'])\n",
    "    if x.__contains__('.csv')\n",
    "    ]\n",
    "files.sort()\n",
    "\n",
    "# Upload table to cloud\n",
    "for file in files:\n",
    "    # Build file path\n",
    "    file = os.path.join(config['path']['episodes'], file)\n",
    "    \n",
    "    # Upload to AWS S3\n",
    "    s3.upload_file(\n",
    "        Filename=file,\n",
    "        Bucket=BUCKET,\n",
    "        Key=file)\n",
    "\n",
    "print('Job done!')"
   ]
  },
  {
   "attachments": {},
   "cell_type": "markdown",
   "metadata": {},
   "source": [
    "## ELT\n",
    "\n",
    "Una vez subidos los datos a un datalake, entonces se pued establecer una conexión para trabajar con ellos."
   ]
  },
  {
   "cell_type": "code",
   "execution_count": 6,
   "metadata": {},
   "outputs": [],
   "source": [
    "# Objeto de glue catalog\n",
    "glue = boto3.client('glue')"
   ]
  },
  {
   "attachments": {},
   "cell_type": "markdown",
   "metadata": {},
   "source": [
    "Primero se tiene que crear una tabla para que Athena pueda conectarse a los datos cargados en la sección anterior."
   ]
  },
  {
   "cell_type": "code",
   "execution_count": 7,
   "metadata": {},
   "outputs": [
    {
     "data": {
      "text/html": [
       "<div>\n",
       "<style scoped>\n",
       "    .dataframe tbody tr th:only-of-type {\n",
       "        vertical-align: middle;\n",
       "    }\n",
       "\n",
       "    .dataframe tbody tr th {\n",
       "        vertical-align: top;\n",
       "    }\n",
       "\n",
       "    .dataframe thead th {\n",
       "        text-align: right;\n",
       "    }\n",
       "</style>\n",
       "<table border=\"1\" class=\"dataframe\">\n",
       "  <thead>\n",
       "    <tr style=\"text-align: right;\">\n",
       "      <th></th>\n",
       "    </tr>\n",
       "  </thead>\n",
       "  <tbody>\n",
       "  </tbody>\n",
       "</table>\n",
       "</div>"
      ],
      "text/plain": [
       "Empty DataFrame\n",
       "Columns: []\n",
       "Index: []"
      ]
     },
     "execution_count": 7,
     "metadata": {},
     "output_type": "execute_result"
    }
   ],
   "source": [
    "query = '''\n",
    "CREATE EXTERNAL TABLE IF NOT EXISTS `simpsons`.`episodes` (\n",
    "    `id_overall` string,\n",
    "    `id_season` string,\n",
    "    `title` string,\n",
    "    `director` string,\n",
    "    `writer` string,\n",
    "    `air_date` string,\n",
    "    `code` string,\n",
    "    `viewers` string,\n",
    "    `season` string\n",
    ")\n",
    "COMMENT \"Catalog of Simpsons seasons.\"\n",
    "ROW FORMAT SERDE 'org.apache.hadoop.hive.serde2.lazy.LazySimpleSerDe'\n",
    "WITH SERDEPROPERTIES ('field.delim' = ',')\n",
    "STORED AS INPUTFORMAT 'org.apache.hadoop.mapred.TextInputFormat'\n",
    "OUTPUTFORMAT 'org.apache.hadoop.hive.ql.io.HiveIgnoreKeyTextOutputFormat'\n",
    "LOCATION 's3://itam-analytics-camm961001/simpsons/raw/episodes/'\n",
    "TBLPROPERTIES ('classification' = 'csv', \"skip.header.line.count\"=\"1\");\n",
    "'''\n",
    "\n",
    "wr.athena.read_sql_query(query, database=\"simpsons\", ctas_approach=False)"
   ]
  },
  {
   "attachments": {},
   "cell_type": "markdown",
   "metadata": {},
   "source": [
    "Después se llaman los datos al notebook para su análisis"
   ]
  },
  {
   "cell_type": "code",
   "execution_count": 16,
   "metadata": {},
   "outputs": [
    {
     "data": {
      "text/html": [
       "<div>\n",
       "<style scoped>\n",
       "    .dataframe tbody tr th:only-of-type {\n",
       "        vertical-align: middle;\n",
       "    }\n",
       "\n",
       "    .dataframe tbody tr th {\n",
       "        vertical-align: top;\n",
       "    }\n",
       "\n",
       "    .dataframe thead th {\n",
       "        text-align: right;\n",
       "    }\n",
       "</style>\n",
       "<table border=\"1\" class=\"dataframe\">\n",
       "  <thead>\n",
       "    <tr style=\"text-align: right;\">\n",
       "      <th></th>\n",
       "      <th>season</th>\n",
       "      <th>title</th>\n",
       "      <th>viewers</th>\n",
       "      <th>guest_star</th>\n",
       "      <th>guest_flag</th>\n",
       "    </tr>\n",
       "  </thead>\n",
       "  <tbody>\n",
       "    <tr>\n",
       "      <th>0</th>\n",
       "      <td>1</td>\n",
       "      <td>Simpsons Roasting on an Open Fire</td>\n",
       "      <td>26.7</td>\n",
       "      <td>&lt;NA&gt;</td>\n",
       "      <td>False</td>\n",
       "    </tr>\n",
       "    <tr>\n",
       "      <th>1</th>\n",
       "      <td>1</td>\n",
       "      <td>Bart the Genius</td>\n",
       "      <td>24.5</td>\n",
       "      <td>Marcia Wallace</td>\n",
       "      <td>True</td>\n",
       "    </tr>\n",
       "    <tr>\n",
       "      <th>2</th>\n",
       "      <td>1</td>\n",
       "      <td>Homer's Odyssey</td>\n",
       "      <td>27.5</td>\n",
       "      <td>Marcia Wallace</td>\n",
       "      <td>True</td>\n",
       "    </tr>\n",
       "    <tr>\n",
       "      <th>3</th>\n",
       "      <td>1</td>\n",
       "      <td>Homer's Odyssey</td>\n",
       "      <td>27.5</td>\n",
       "      <td>Sam McMurray</td>\n",
       "      <td>True</td>\n",
       "    </tr>\n",
       "    <tr>\n",
       "      <th>4</th>\n",
       "      <td>1</td>\n",
       "      <td>There's No Disgrace Like Home</td>\n",
       "      <td>20.2</td>\n",
       "      <td>&lt;NA&gt;</td>\n",
       "      <td>False</td>\n",
       "    </tr>\n",
       "  </tbody>\n",
       "</table>\n",
       "</div>"
      ],
      "text/plain": [
       "   season                              title  viewers      guest_star  \\\n",
       "0       1  Simpsons Roasting on an Open Fire     26.7            <NA>   \n",
       "1       1                    Bart the Genius     24.5  Marcia Wallace   \n",
       "2       1                    Homer's Odyssey     27.5  Marcia Wallace   \n",
       "3       1                    Homer's Odyssey     27.5    Sam McMurray   \n",
       "4       1      There's No Disgrace Like Home     20.2            <NA>   \n",
       "\n",
       "   guest_flag  \n",
       "0       False  \n",
       "1        True  \n",
       "2        True  \n",
       "3        True  \n",
       "4       False  "
      ]
     },
     "execution_count": 16,
     "metadata": {},
     "output_type": "execute_result"
    }
   ],
   "source": [
    "query = '''\n",
    "SELECT\n",
    "    a.season,\n",
    "    a.title,\n",
    "    a.viewers,\n",
    "    b.guest_star\n",
    "FROM simpsons.episodes AS a\n",
    "LEFT JOIN simpsons.guests AS b\n",
    "ON a.season = b.season\n",
    "AND a.code = b.prod_code;\n",
    "'''\n",
    "\n",
    "episodes_guests = wr.athena.read_sql_query(query, database='simpsons', ctas_approach=False)\n",
    "\n",
    "episodes_guests = (\n",
    "    episodes_guests\n",
    "    .assign(\n",
    "        # Remove \" from title\n",
    "        title = lambda df_: df_.title.str.replace('\"', ''),\n",
    "        # Convert to numeric\n",
    "        season = lambda df_: df_.season.astype(int),\n",
    "        viewers = lambda df_: df_.viewers.astype(float),\n",
    "        guest_flag = lambda df_: ~pd.isna(df_.guest_star)\n",
    "    )\n",
    ")\n",
    "\n",
    "episodes_guests.head()"
   ]
  },
  {
   "cell_type": "code",
   "execution_count": 38,
   "metadata": {},
   "outputs": [
    {
     "data": {
      "text/plain": [
       "Text(0, 0.5, 'Viewers')"
      ]
     },
     "execution_count": 38,
     "metadata": {},
     "output_type": "execute_result"
    },
    {
     "data": {
      "image/png": "[encoded data removed]",
      "text/plain": [
       "<Figure size 640x480 with 1 Axes>"
      ]
     },
     "metadata": {},
     "output_type": "display_data"
    }
   ],
   "source": [
    "fig, ax = plt.subplots()\n",
    "\n",
    "scatter = ax.scatter(\n",
    "    x=episodes_guests.index\n",
    "    ,y=episodes_guests['viewers']\n",
    "    ,c=episodes_guests['guest_flag']\n",
    ")\n",
    "\n",
    "legend = ax.legend(*scatter.legend_elements(num=1),\n",
    "                    loc=\"upper right\", title=\"Guest\")\n",
    "ax.add_artist(legend)\n",
    "\n",
    "ax.set_xlabel('Historical episodes')\n",
    "ax.set_ylabel('Viewers')"
   ]
  },
  {
   "cell_type": "markdown",
   "metadata": {},
   "source": []
  },
  {
   "cell_type": "code",
   "execution_count": 37,
   "metadata": {},
   "outputs": [
    {
     "data": {
      "text/plain": [
       "<Axes: xlabel='season'>"
      ]
     },
     "execution_count": 37,
     "metadata": {},
     "output_type": "execute_result"
    },
    {
     "data": {
      "image/png": "[encoded data removed]",
      "text/plain": [
       "<Figure size 640x480 with 1 Axes>"
      ]
     },
     "metadata": {},
     "output_type": "display_data"
    }
   ],
   "source": [
    "(\n",
    "    episodes_guests\n",
    "    .pivot_table(\n",
    "        values='viewers'\n",
    "        ,index='season'\n",
    "        ,columns='guest_flag'\n",
    "    )\n",
    "    .plot.bar(rot=0)\n",
    ")"
   ]
  },
  {
   "cell_type": "markdown",
   "metadata": {},
   "source": []
  }
 ],
 "metadata": {
  "kernelspec": {
   "display_name": "Python 3 (ipykernel)",
   "language": "python",
   "name": "python3"
  },
  "language_info": {
   "codemirror_mode": {
    "name": "ipython",
    "version": 3
   },
   "file_extension": ".py",
   "mimetype": "text/x-python",
   "name": "python",
   "nbconvert_exporter": "python",
   "pygments_lexer": "ipython3",
   "version": "3.9.12"
  },
  "orig_nbformat": 4
 },
 "nbformat": 4,
 "nbformat_minor": 2
}
