{
 "cells": [
  {
   "attachments": {},
   "cell_type": "markdown",
   "metadata": {},
   "source": [
    "# Los Simpsons con Big Data\n",
    "\n",
    "## ETL\n",
    "\n",
    "Implementación de la primera parte de la arquitectura. En la práctica se puede **prototipar** este ETL en un cuaderno de Jupyter para experimentar rápido y dejar algo funcional. Al finalizar, lo más adecuado es implementarlo en un script utilizando prácticas de **código de producción**.\n",
    "\n",
    "### Extracción\n",
    "\n",
    "Se desea automatizar la extracción de datos y no hacer un típico _copy and paste_, para lo cual se va a implementar un en un webscrapper que haga un crawl sobre las tablas del HTML.\n",
    "\n",
    "En la aplicación se va a utilizar un _webscrapper_ que ya está implementado en Python dentro de funciones de la librería `pandas`"
   ]
  },
  {
   "cell_type": "code",
   "execution_count": 27,
   "metadata": {},
   "outputs": [],
   "source": [
    "import os\n",
    "import yaml\n",
    "import pandas as pd\n",
    "import numpy as np"
   ]
  },
  {
   "cell_type": "code",
   "execution_count": 35,
   "metadata": {},
   "outputs": [
    {
     "data": {
      "text/plain": [
       "23"
      ]
     },
     "execution_count": 35,
     "metadata": {},
     "output_type": "execute_result"
    }
   ],
   "source": [
    "with open(\"config.yml\", \"r\") as file:\n",
    "    config = yaml.safe_load(file); file.close()\n",
    "\n",
    "PATH_GUESTS = config['scrapper']['url']\n",
    "simpsons_raw = pd.read_html(PATH_GUESTS)\n",
    "len(simpsons_raw)"
   ]
  },
  {
   "attachments": {},
   "cell_type": "markdown",
   "metadata": {},
   "source": [
    "### Transformación"
   ]
  },
  {
   "cell_type": "code",
   "execution_count": 40,
   "metadata": {},
   "outputs": [
    {
     "name": "stdout",
     "output_type": "stream",
     "text": [
      "1\n",
      "2\n",
      "3\n",
      "4\n",
      "5\n",
      "6\n",
      "7\n",
      "8\n",
      "9\n",
      "10\n",
      "11\n",
      "12\n",
      "13\n",
      "14\n",
      "15\n",
      "16\n",
      "17\n",
      "18\n",
      "19\n",
      "20\n",
      "21\n"
     ]
    }
   ],
   "source": [
    "seasons = np.arange(\n",
    "    config['scrapper']['seasons'][0]\n",
    "    ,config['scrapper']['seasons'][1]+1)\n",
    "\n",
    "# for idx in seasons:\n",
    "#     print(idx)\n"
   ]
  },
  {
   "cell_type": "code",
   "execution_count": null,
   "metadata": {},
   "outputs": [],
   "source": []
  }
 ],
 "metadata": {
  "kernelspec": {
   "display_name": "Python 3 (ipykernel)",
   "language": "python",
   "name": "python3"
  },
  "language_info": {
   "codemirror_mode": {
    "name": "ipython",
    "version": 3
   },
   "file_extension": ".py",
   "mimetype": "text/x-python",
   "name": "python",
   "nbconvert_exporter": "python",
   "pygments_lexer": "ipython3",
   "version": "3.9.12"
  },
  "orig_nbformat": 4
 },
 "nbformat": 4,
 "nbformat_minor": 2
}
